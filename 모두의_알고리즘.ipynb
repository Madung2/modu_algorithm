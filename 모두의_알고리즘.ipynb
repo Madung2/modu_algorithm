{
  "nbformat": 4,
  "nbformat_minor": 0,
  "metadata": {
    "colab": {
      "name": "모두의 알고리즘",
      "provenance": [],
      "authorship_tag": "ABX9TyN4qun+5ejM7TsYoTpLjBEZ",
      "include_colab_link": true
    },
    "kernelspec": {
      "name": "python3",
      "display_name": "Python 3"
    },
    "language_info": {
      "name": "python"
    }
  },
  "cells": [
    {
      "cell_type": "markdown",
      "metadata": {
        "id": "view-in-github",
        "colab_type": "text"
      },
      "source": [
        "<a href=\"https://colab.research.google.com/github/Madung2/modu_algorithm/blob/main/%EB%AA%A8%EB%91%90%EC%9D%98_%EC%95%8C%EA%B3%A0%EB%A6%AC%EC%A6%98.ipynb\" target=\"_parent\"><img src=\"https://colab.research.google.com/assets/colab-badge.svg\" alt=\"Open In Colab\"/></a>"
      ]
    },
    {
      "cell_type": "markdown",
      "source": [
        "2일차 최대값을 찾는 알고리즘"
      ],
      "metadata": {
        "id": "1U1av7OAJlIV"
      }
    },
    {
      "cell_type": "code",
      "execution_count": null,
      "metadata": {
        "colab": {
          "base_uri": "https://localhost:8080/"
        },
        "id": "Q8KAaVLKJiTW",
        "outputId": "9b8738c0-ee42-4241-bac5-28a4d78b95d6"
      },
      "outputs": [
        {
          "output_type": "stream",
          "name": "stdout",
          "text": [
            "17\n",
            "18\n",
            "33\n",
            "48\n",
            "92\n",
            "92\n"
          ]
        },
        {
          "output_type": "execute_result",
          "data": {
            "text/plain": [
              "92"
            ]
          },
          "metadata": {},
          "execution_count": 3
        }
      ],
      "source": [
        "def find_max(numbers):\n",
        "  num_len = len(numbers)\n",
        "  a=numbers[0]\n",
        "  for i in range(1, num_len):    \n",
        "    print(a)\n",
        "    if a < numbers[i]:\n",
        "      \n",
        "      a= numbers[i]\n",
        "  return a\n",
        "\n",
        "\n",
        "num= [17, 18, 33, 48, 92, 7, 33]\n",
        "\n",
        "find_max(num)\n",
        "#O(n)"
      ]
    },
    {
      "cell_type": "markdown",
      "source": [
        "2일차 응용// 리스트에 숫자가 n개 있을때 가장 큰 값이 있는 위치 번호를 돌려주는 알고리즘"
      ],
      "metadata": {
        "id": "DSlnxGWqSFBB"
      }
    },
    {
      "cell_type": "code",
      "source": [
        "def find_max_index(numbers):\n",
        "  num_len = len(numbers)\n",
        "  \n",
        "  m_index=0\n",
        "  for i in range(1, num_len):    \n",
        "    \n",
        "    if numbers[m_index] < numbers[i]:\n",
        "      # print(i)\n",
        "      m_index=i      \n",
        "      \n",
        "  return m_index\n",
        "\n",
        "\n",
        "num= [17, 92, 18, 33, 48,  7, 33]\n",
        "\n",
        "find_max_index(num)"
      ],
      "metadata": {
        "colab": {
          "base_uri": "https://localhost:8080/"
        },
        "id": "tmXpcbxhSEZd",
        "outputId": "9e5716cb-b915-4595-c69e-870f225ec0b4"
      },
      "execution_count": null,
      "outputs": [
        {
          "output_type": "execute_result",
          "data": {
            "text/plain": [
              "1"
            ]
          },
          "metadata": {},
          "execution_count": 10
        }
      ]
    },
    {
      "cell_type": "markdown",
      "source": [
        "2일차 연습문제//리스트로 입력받아 최소값을 구하는 문제"
      ],
      "metadata": {
        "id": "9LlswM_HTNRe"
      }
    },
    {
      "cell_type": "code",
      "source": [
        "def find_min(numbers):\n",
        "  n_len=len(numbers)\n",
        "  min=numbers[0]\n",
        "  for i in range(1,n_len):\n",
        "    if min > numbers[i]:\n",
        "      min=numbers[i]\n",
        "  return min\n",
        "\n",
        "num= [17, 92, 18, 33, 48,  7, 33]\n",
        "\n",
        "find_min(num)\n"
      ],
      "metadata": {
        "colab": {
          "base_uri": "https://localhost:8080/"
        },
        "id": "mzaRonorTKPW",
        "outputId": "2c3bb857-6ad2-46f6-f05b-3d7ba589879c"
      },
      "execution_count": null,
      "outputs": [
        {
          "output_type": "execute_result",
          "data": {
            "text/plain": [
              "7"
            ]
          },
          "metadata": {},
          "execution_count": 11
        }
      ]
    },
    {
      "cell_type": "markdown",
      "source": [
        "3일차//동명이인 찾기 ((집합 사용))// 계속 반복해서 같은 사람 있는지 확인"
      ],
      "metadata": {
        "id": "sS-pDicGdzX-"
      }
    },
    {
      "cell_type": "code",
      "source": [
        "def find_same_name(names):\n",
        "  result = set()\n",
        "  n_len=len(names)\n",
        "  for i in range(n_len):\n",
        "    for j in range(i+1, n_len):\n",
        "      if names[i]==names[j]:\n",
        "        result.add(names[i])\n",
        "      \n",
        "  return result\n",
        "\n",
        "names=['Tom', 'Jerry', 'Mike', 'Tom']\n",
        "\n",
        "find_same_name(names)\n",
        "\n",
        "names2=['Tom', 'Jerry', 'Mike', 'Tom', 'Mike']\n",
        "\n",
        "find_same_name(names2)\n",
        "#O(n2)\n"
      ],
      "metadata": {
        "colab": {
          "base_uri": "https://localhost:8080/"
        },
        "id": "A4xKMod8d-Ev",
        "outputId": "4f28e30f-f57a-4bd2-b857-5c90f3935cf9"
      },
      "execution_count": null,
      "outputs": [
        {
          "output_type": "execute_result",
          "data": {
            "text/plain": [
              "{'Mike', 'Tom'}"
            ]
          },
          "metadata": {},
          "execution_count": 12
        }
      ]
    },
    {
      "cell_type": "markdown",
      "source": [
        "3일차 연습문제1// 두명을 뽑아 짝을 짓는다고 할때 짝을 지을수 있는 모든 조합"
      ],
      "metadata": {
        "id": "zIwuOSWOlxIM"
      }
    },
    {
      "cell_type": "code",
      "source": [
        "def make_friends(people):\n",
        "  n=len(people)\n",
        "  result=[]\n",
        "  for i in range(n-1):\n",
        "    for j in range(i+1, n):\n",
        "      friend = people[i]+\"-\"+people[j]\n",
        "      result.append(friend)\n",
        "  return result\n",
        "\n",
        "people = ['Tom', 'Jerry', 'Mike']\n",
        "make_friends(people)"
      ],
      "metadata": {
        "colab": {
          "base_uri": "https://localhost:8080/"
        },
        "id": "OMSSP2edlwcD",
        "outputId": "d609a005-75a2-4565-de7f-5dfee07c6fb8"
      },
      "execution_count": null,
      "outputs": [
        {
          "output_type": "execute_result",
          "data": {
            "text/plain": [
              "['Tom-Jerry', 'Tom-Mike', 'Jerry-Mike']"
            ]
          },
          "metadata": {},
          "execution_count": 21
        }
      ]
    },
    {
      "cell_type": "markdown",
      "source": [
        "3일차 연습문제2// 다음 식을 각각 대문자 O표기법으로 표현해보세요."
      ],
      "metadata": {
        "id": "afmfm-fooIHr"
      }
    },
    {
      "cell_type": "markdown",
      "source": [
        "A => O(1)\n",
        "B => O(n)\n",
        "C => O(n2)\n",
        "D => O(n4)"
      ],
      "metadata": {
        "id": "H2sYvcIeoO1y"
      }
    },
    {
      "cell_type": "markdown",
      "source": [
        "4일차 팩토리얼 구하기"
      ],
      "metadata": {
        "id": "OXLMEP75Ey0W"
      }
    },
    {
      "cell_type": "code",
      "source": [
        "def factorial(num):\n",
        "  \n",
        "  result=1\n",
        "  for i in range(1,num+1):\n",
        "    result*=i\n",
        "  print(result)\n",
        "\n",
        "\n",
        "factorial(10)"
      ],
      "metadata": {
        "id": "2IZOHkdNoORn",
        "colab": {
          "base_uri": "https://localhost:8080/"
        },
        "outputId": "2d39fbba-acc6-4a86-e12e-bed6aaa36031"
      },
      "execution_count": null,
      "outputs": [
        {
          "output_type": "stream",
          "name": "stdout",
          "text": [
            "3628800\n"
          ]
        }
      ]
    },
    {
      "cell_type": "markdown",
      "source": [
        "4일차 재귀호출로 팩토리얼 구하기"
      ],
      "metadata": {
        "id": "c9pHMQR6Fzwx"
      }
    },
    {
      "cell_type": "code",
      "source": [
        "def hello():\n",
        "  print(\"hello\")\n",
        "  #hello()\n",
        "hello()"
      ],
      "metadata": {
        "id": "Bk_o1lnnlwVQ",
        "colab": {
          "base_uri": "https://localhost:8080/"
        },
        "outputId": "5861aac8-a1df-4016-cdd9-29242f629bc7"
      },
      "execution_count": null,
      "outputs": [
        {
          "output_type": "stream",
          "name": "stdout",
          "text": [
            "hello\n"
          ]
        }
      ]
    },
    {
      "cell_type": "code",
      "source": [
        "def factorial(num):\n",
        "  if num<=1:\n",
        "    return 1\n",
        "  return num*factorial(num-1)\n",
        "factorial(10)"
      ],
      "metadata": {
        "colab": {
          "base_uri": "https://localhost:8080/"
        },
        "id": "oH-viyVCGFXo",
        "outputId": "04aed922-a08e-4c48-f081-a626afcd2cc8"
      },
      "execution_count": null,
      "outputs": [
        {
          "output_type": "execute_result",
          "data": {
            "text/plain": [
              "3628800"
            ]
          },
          "metadata": {},
          "execution_count": 11
        }
      ]
    },
    {
      "cell_type": "markdown",
      "source": [
        "문제의 1부터 n까지 합 구하기를 재귀 호출로 만들어보기"
      ],
      "metadata": {
        "id": "Ubxj12s_HjeF"
      }
    },
    {
      "cell_type": "code",
      "source": [
        "def add_all(n):\n",
        "  if n<=1:\n",
        "    return 1\n",
        "  return n+add_all(n-1)\n",
        "\n",
        "add_all(10)"
      ],
      "metadata": {
        "colab": {
          "base_uri": "https://localhost:8080/"
        },
        "id": "5VUtkLVbGOI9",
        "outputId": "f84cc007-bd40-493b-c3f6-09bf07f458b4"
      },
      "execution_count": null,
      "outputs": [
        {
          "output_type": "execute_result",
          "data": {
            "text/plain": [
              "55"
            ]
          },
          "metadata": {},
          "execution_count": 13
        }
      ]
    },
    {
      "cell_type": "markdown",
      "source": [
        "숫자 n개 중에서 최대값 찾기를 재귀 호출로 만들어보기"
      ],
      "metadata": {
        "id": "fW1ybWRVI8dS"
      }
    },
    {
      "cell_type": "code",
      "source": [
        "n_list=[17, 92, 18, 33, 48,  7, 33]\n",
        "\n",
        "def find_max(n_list):\n",
        "  if len(n_list)<=1:\n",
        "    return n_list[0]\n",
        "  else:\n",
        "    if n_list[-1]>find_max(n_list[:-1]):\n",
        "      return n_list[-1]\n",
        "    return find_max(n_list[:-1]) \n",
        "\n",
        "find_max(n_list)"
      ],
      "metadata": {
        "colab": {
          "base_uri": "https://localhost:8080/"
        },
        "id": "BQAw7azQI7qL",
        "outputId": "da5d4b8b-24ad-4c98-b1ad-877a01426f65"
      },
      "execution_count": null,
      "outputs": [
        {
          "output_type": "execute_result",
          "data": {
            "text/plain": [
              "92"
            ]
          },
          "metadata": {},
          "execution_count": 18
        }
      ]
    },
    {
      "cell_type": "markdown",
      "source": [
        "5일차 최대공약수 구하기"
      ],
      "metadata": {
        "id": "AO7sEnQsQuiN"
      }
    },
    {
      "cell_type": "code",
      "source": [
        "def gcd(a,b):\n",
        "  i=min(a,b)\n",
        "  while True:\n",
        "    if a%i==0 and b%i==0:\n",
        "      return i\n",
        "    i=i-1\n",
        "\n",
        "  #둘중 작은 수를 최대공약수 i로 가져온다.\n",
        "  # 각자 i로 나눠 떨어지는지 확인하고 나눠 떨어지면 i를 리턴한다.\n",
        "  # 나눠 떨어지지 않을때는 i값을 1개씩 나눠서 같은 행동을 반복한다.\n",
        "  "
      ],
      "metadata": {
        "id": "w8cwAEwrQmGL"
      },
      "execution_count": null,
      "outputs": []
    },
    {
      "cell_type": "markdown",
      "source": [
        "5일차 최대공약수 구하기 유클리드 버전\n",
        "\n",
        "a와 b의 최대공약수는 'b'와 'a를 b로 나눈 나머지'd의 최대공약수와 같습니다. 즉 gcd(a,b)=gcd(b,a%b)입니다."
      ],
      "metadata": {
        "id": "x0pdQRcMS0nw"
      }
    },
    {
      "cell_type": "code",
      "source": [
        "def gcd(a,b):\n",
        "  if b==0:\n",
        "    return a\n",
        "  return gcd(b,a%b)"
      ],
      "metadata": {
        "id": "NrveZuCdSzo9"
      },
      "execution_count": null,
      "outputs": []
    },
    {
      "cell_type": "markdown",
      "source": [
        "5일차 연습문제// 피보나치 수열"
      ],
      "metadata": {
        "id": "0XjHinCjURCf"
      }
    },
    {
      "cell_type": "code",
      "source": [
        "def fibonacci(n):\n",
        "  if n==1:\n",
        "    return 1\n",
        "  elif n==0:\n",
        "    return 0\n",
        "  return fibonacci(n-1)+fibonacci(n-2)"
      ],
      "metadata": {
        "colab": {
          "base_uri": "https://localhost:8080/"
        },
        "id": "f6H05z_WUe8e",
        "outputId": "92de0765-2baa-4d4b-d5e2-6e1ef02fba6a"
      },
      "execution_count": null,
      "outputs": [
        {
          "output_type": "execute_result",
          "data": {
            "text/plain": [
              "8"
            ]
          },
          "metadata": {},
          "execution_count": 3
        }
      ]
    },
    {
      "cell_type": "markdown",
      "source": [
        "6일차 하노이의 탑 "
      ],
      "metadata": {
        "id": "fWDyFP_dY_Za"
      }
    },
    {
      "cell_type": "code",
      "source": [
        "###############기둥이 딱 3개일때\n",
        "#원반이 하나일 때 1번\n",
        "#원반이 두개일 때 3번\n",
        "#원반이 3개일 때 3번+1번 +3번\n",
        "#원반이 4개 일때 7번+1번 +7번\n",
        "\n",
        "def hanoiTower(n):\n",
        "  if n==1:\n",
        "    return 1\n",
        "  return hanoiTower(n-1)*2+1\n",
        "\n",
        "hanoiTower(4)"
      ],
      "metadata": {
        "colab": {
          "base_uri": "https://localhost:8080/"
        },
        "id": "dGaTdqHJZNLT",
        "outputId": "2613d942-96dc-4674-c318-744d8b653b96"
      },
      "execution_count": null,
      "outputs": [
        {
          "output_type": "execute_result",
          "data": {
            "text/plain": [
              "15"
            ]
          },
          "metadata": {},
          "execution_count": 5
        }
      ]
    },
    {
      "cell_type": "code",
      "source": [
        "def hanoi(n, from_, to_, aux_ ):\n",
        "  if n==1:\n",
        "    print(from_, '->', to_)\n",
        "    return\n",
        "  hanoi(n-1, from_,to_, aux_)\n",
        "  print(from_,'->', to_)\n",
        "  hanoi(n-1, aux_,to_, from_)"
      ],
      "metadata": {
        "id": "32wgUidwah25"
      },
      "execution_count": null,
      "outputs": []
    },
    {
      "cell_type": "code",
      "source": [
        "hanoi(3,1,3,2)"
      ],
      "metadata": {
        "colab": {
          "base_uri": "https://localhost:8080/"
        },
        "id": "8uqvV9IRb1jt",
        "outputId": "4286114b-6b9f-4380-d0b7-7f93ad4e0141"
      },
      "execution_count": null,
      "outputs": [
        {
          "output_type": "stream",
          "name": "stdout",
          "text": [
            "1 -> 3\n",
            "1 -> 3\n",
            "2 -> 3\n",
            "1 -> 3\n",
            "2 -> 3\n",
            "2 -> 3\n",
            "1 -> 3\n"
          ]
        }
      ]
    }
  ]
}